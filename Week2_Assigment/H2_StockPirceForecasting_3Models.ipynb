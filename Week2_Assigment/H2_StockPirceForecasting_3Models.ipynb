{
 "cells": [
  {
   "cell_type": "code",
   "execution_count": 1,
   "metadata": {},
   "outputs": [],
   "source": [
    "#Code done in ANACONDA - Jupyter\n",
    "#Import libraries for data adquisition\n",
    "import pandas as pd\n",
    "import datetime\n",
    "pd.core.common.is_list_like = pd.api.types.is_list_like\n",
    "from pandas import Series, DataFrame\n",
    "import numpy as np"
   ]
  },
  {
   "cell_type": "code",
   "execution_count": 2,
   "metadata": {},
   "outputs": [],
   "source": [
    "#Import data from CSV and prepare it\n",
    "data = pd.read_csv(\"NVDA.csv\")\n",
    "\n",
    "#Set date as index of the table\n",
    "data.set_index('Date', inplace=True)\n",
    "\n",
    "#Change date of the index\n",
    "data.index = pd.to_datetime(data.index, format= '%d/%m/%Y')\n",
    "\n",
    "#Print datable\n",
    "#data.tail()"
   ]
  },
  {
   "cell_type": "code",
   "execution_count": 3,
   "metadata": {},
   "outputs": [
    {
     "data": {
      "text/plain": [
       "<matplotlib.axes._subplots.AxesSubplot at 0x1dbcc7c0320>"
      ]
     },
     "execution_count": 3,
     "metadata": {},
     "output_type": "execute_result"
    }
   ],
   "source": [
    "data['Adj Close'].plot(label='NVDA', figsize=(15,8), title='NVIDIA sotck prices', grid= True )"
   ]
  },
  {
   "cell_type": "code",
   "execution_count": 4,
   "metadata": {},
   "outputs": [],
   "source": [
    "#Prediction model using HL_PCT and PCT_Change\n",
    "\n",
    "#Get the High Low percentage, max and min value average per day\n",
    "data['HL_PCT'] = (data['High'] - data['Low']) / data['Close'] * 100.0\n",
    "\n",
    "#Change percentage, how much it changes since the opening.\n",
    "data['PCT_change'] = (data['Close'] - data['Open']) / data['Open'] * 100.0\n",
    "\n",
    "#data.tail()"
   ]
  },
  {
   "cell_type": "code",
   "execution_count": 5,
   "metadata": {},
   "outputs": [
    {
     "data": {
      "text/plain": [
       "(189, 189)"
      ]
     },
     "execution_count": 5,
     "metadata": {},
     "output_type": "execute_result"
    }
   ],
   "source": [
    "#Forecasting parameters selection\n",
    "\n",
    "#Days to be forecasted (Extrapolation)\n",
    "fwind = 10 #Forecast windows\n",
    "\n",
    "#Creating data for the forecasting\n",
    "data['Forecast'] = data[['Adj Close']].shift(-fwind) #This will shift the Adj Close column fwind spaces, and fill it with NaNs\n",
    "\n",
    "#Now we have an incompleted data column data['Forecast']\n",
    "\n",
    "#Lets continue to the X and y definition\n",
    "#X will be all the non 'Forecast' columns (features)\n",
    "\n",
    "import sklearn.preprocessing as pp\n",
    "X = np.array(data.drop(['Forecast'],1)) #Creating X as array, ignoring 'Forecast' column\n",
    "X = pp.scale(X) #Standarization of data to be all the same size\n",
    "Xlately = X[-fwind:] #Get the last fwind values (last 10)\n",
    "X = X[:-fwind] #Get the values ignoring last fwind\n",
    "\n",
    "#y is the 'Forecast' column\n",
    "y = np.array(data['Forecast']) #Create y array, for completing values\n",
    "y = y[:-fwind] #Ignore the last fwind values, that are the NaN\n",
    "\n",
    "#data.head()\n",
    "len(X),len(y)"
   ]
  },
  {
   "cell_type": "code",
   "execution_count": 6,
   "metadata": {},
   "outputs": [],
   "source": [
    "# #Import matplotlib for ploting the data\n",
    "import matplotlib.pyplot as plt\n",
    "import matplotlib as mpl\n",
    "from matplotlib import style\n",
    "%matplotlib inline\n",
    "\n",
    "mpl.rc('figure', figsize=(15,5))\n",
    "mpl._version\n",
    "\n",
    "#Adjusting style of matplotlib\n",
    "style.use('ggplot')"
   ]
  },
  {
   "cell_type": "code",
   "execution_count": 7,
   "metadata": {},
   "outputs": [],
   "source": [
    "# Import package for splitting data set\n",
    "from sklearn.model_selection import train_test_split\n",
    "from sklearn.metrics import mean_squared_error, r2_score"
   ]
  },
  {
   "cell_type": "code",
   "execution_count": 8,
   "metadata": {},
   "outputs": [],
   "source": [
    "#Split dataset for test and training\n",
    "X_train,X_test,y_train,y_test=train_test_split(X,y,test_size=0.3)"
   ]
  },
  {
   "cell_type": "code",
   "execution_count": 9,
   "metadata": {},
   "outputs": [
    {
     "name": "stdout",
     "output_type": "stream",
     "text": [
      "Mean square error 312.41\n",
      "Variance score 0.82\n"
     ]
    }
   ],
   "source": [
    "#Training\n",
    "#Linear regression model\n",
    "from sklearn import linear_model\n",
    "regLineal = linear_model.LinearRegression()\n",
    "regLineal.fit(X_train, y_train)\n",
    "y_pred = regLineal.predict(X_test)\n",
    "\n",
    "#Evaluate mSR and variance\n",
    "print(\"Mean square error %.2f\" %mean_squared_error(y_test,y_pred))\n",
    "print(\"Variance score %.2f\" %r2_score(y_test,y_pred))"
   ]
  },
  {
   "cell_type": "code",
   "execution_count": 10,
   "metadata": {},
   "outputs": [
    {
     "name": "stdout",
     "output_type": "stream",
     "text": [
      "Alpha 0.00\n",
      "Mean square error 346.17\n",
      "Variance score 0.80\n",
      "Alpha 0.10\n",
      "Mean square error 354.83\n",
      "Variance score 0.80\n",
      "Alpha 0.20\n",
      "Mean square error 353.22\n",
      "Variance score 0.80\n",
      "Alpha 0.30\n",
      "Mean square error 355.91\n",
      "Variance score 0.80\n",
      "Alpha 0.40\n",
      "Mean square error 358.15\n",
      "Variance score 0.80\n",
      "Alpha 0.50\n",
      "Mean square error 360.30\n",
      "Variance score 0.80\n",
      "Alpha 0.60\n",
      "Mean square error 362.44\n",
      "Variance score 0.79\n",
      "Alpha 0.70\n",
      "Mean square error 364.33\n",
      "Variance score 0.79\n",
      "Alpha 0.80\n",
      "Mean square error 365.33\n",
      "Variance score 0.79\n",
      "Alpha 0.90\n",
      "Mean square error 366.49\n",
      "Variance score 0.79\n"
     ]
    },
    {
     "name": "stderr",
     "output_type": "stream",
     "text": [
      "C:\\Users\\thond\\Anaconda3\\envs\\venv\\lib\\site-packages\\ipykernel_launcher.py:7: UserWarning: With alpha=0, this algorithm does not converge well. You are advised to use the LinearRegression estimator\n",
      "  import sys\n",
      "C:\\Users\\thond\\Anaconda3\\envs\\venv\\lib\\site-packages\\sklearn\\linear_model\\coordinate_descent.py:477: UserWarning: Coordinate descent with no regularization may lead to unexpected results and is discouraged.\n",
      "  positive)\n",
      "C:\\Users\\thond\\Anaconda3\\envs\\venv\\lib\\site-packages\\sklearn\\linear_model\\coordinate_descent.py:491: ConvergenceWarning: Objective did not converge. You might want to increase the number of iterations. Fitting data with very small alpha may cause precision problems.\n",
      "  ConvergenceWarning)\n",
      "C:\\Users\\thond\\Anaconda3\\envs\\venv\\lib\\site-packages\\sklearn\\linear_model\\coordinate_descent.py:491: ConvergenceWarning: Objective did not converge. You might want to increase the number of iterations. Fitting data with very small alpha may cause precision problems.\n",
      "  ConvergenceWarning)\n",
      "C:\\Users\\thond\\Anaconda3\\envs\\venv\\lib\\site-packages\\sklearn\\linear_model\\coordinate_descent.py:491: ConvergenceWarning: Objective did not converge. You might want to increase the number of iterations. Fitting data with very small alpha may cause precision problems.\n",
      "  ConvergenceWarning)\n",
      "C:\\Users\\thond\\Anaconda3\\envs\\venv\\lib\\site-packages\\sklearn\\linear_model\\coordinate_descent.py:491: ConvergenceWarning: Objective did not converge. You might want to increase the number of iterations. Fitting data with very small alpha may cause precision problems.\n",
      "  ConvergenceWarning)\n",
      "C:\\Users\\thond\\Anaconda3\\envs\\venv\\lib\\site-packages\\sklearn\\linear_model\\coordinate_descent.py:491: ConvergenceWarning: Objective did not converge. You might want to increase the number of iterations. Fitting data with very small alpha may cause precision problems.\n",
      "  ConvergenceWarning)\n",
      "C:\\Users\\thond\\Anaconda3\\envs\\venv\\lib\\site-packages\\sklearn\\linear_model\\coordinate_descent.py:491: ConvergenceWarning: Objective did not converge. You might want to increase the number of iterations. Fitting data with very small alpha may cause precision problems.\n",
      "  ConvergenceWarning)\n",
      "C:\\Users\\thond\\Anaconda3\\envs\\venv\\lib\\site-packages\\sklearn\\linear_model\\coordinate_descent.py:491: ConvergenceWarning: Objective did not converge. You might want to increase the number of iterations. Fitting data with very small alpha may cause precision problems.\n",
      "  ConvergenceWarning)\n",
      "C:\\Users\\thond\\Anaconda3\\envs\\venv\\lib\\site-packages\\sklearn\\linear_model\\coordinate_descent.py:491: ConvergenceWarning: Objective did not converge. You might want to increase the number of iterations. Fitting data with very small alpha may cause precision problems.\n",
      "  ConvergenceWarning)\n",
      "C:\\Users\\thond\\Anaconda3\\envs\\venv\\lib\\site-packages\\sklearn\\linear_model\\coordinate_descent.py:491: ConvergenceWarning: Objective did not converge. You might want to increase the number of iterations. Fitting data with very small alpha may cause precision problems.\n",
      "  ConvergenceWarning)\n",
      "C:\\Users\\thond\\Anaconda3\\envs\\venv\\lib\\site-packages\\sklearn\\linear_model\\coordinate_descent.py:491: ConvergenceWarning: Objective did not converge. You might want to increase the number of iterations. Fitting data with very small alpha may cause precision problems.\n",
      "  ConvergenceWarning)\n"
     ]
    }
   ],
   "source": [
    "#Training\n",
    "#LASSO regression model\n",
    "from sklearn import linear_model\n",
    "\n",
    "for i in range(0,10):\n",
    "    regLasso = linear_model.Lasso(alpha=(i/10))\n",
    "    regLasso.fit(X_train, y_train)\n",
    "    y_pred = regLasso.predict(X_test)\n",
    "\n",
    "    #Evaluate mSR and variance\n",
    "    print(\"Alpha %.2f\" %(i/10))\n",
    "    print(\"Mean square error %.2f\" %mean_squared_error(y_test,y_pred))\n",
    "    print(\"Variance score %.2f\" %r2_score(y_test,y_pred))"
   ]
  },
  {
   "cell_type": "code",
   "execution_count": 11,
   "metadata": {},
   "outputs": [
    {
     "name": "stdout",
     "output_type": "stream",
     "text": [
      "Mean square error 280.78\n"
     ]
    }
   ],
   "source": [
    "#Training\n",
    "from sklearn.linear_model import Ridge\n",
    "from sklearn.preprocessing import PolynomialFeatures\n",
    "from sklearn.pipeline import make_pipeline\n",
    "\n",
    "# Quadratic Regression 2\n",
    "clfpoly2 = make_pipeline(PolynomialFeatures(2), Ridge())\n",
    "clfpoly2.fit(X_train, y_train)\n",
    "\n",
    "y_pred = clfpoly2.predict(X_test)\n",
    "\n",
    "# #plt.plot(X)\n",
    "# plt.scatter(X_train, y_train, color='black')\n",
    "# plt.plot(X_test,y_pred, color='yellow', linewidth=1)\n",
    "\n",
    "# #Evaluate mSR and variance\n",
    "print(\"Mean square error %.2f\" %mean_squared_error(y_test,y_pred))\n",
    "#print(\"Variance score %.2f\" %r2_score(y_test,y_pred)"
   ]
  },
  {
   "cell_type": "code",
   "execution_count": 12,
   "metadata": {},
   "outputs": [
    {
     "name": "stdout",
     "output_type": "stream",
     "text": [
      "2019-06-10 00:00:00\n"
     ]
    },
    {
     "name": "stderr",
     "output_type": "stream",
     "text": [
      "C:\\Users\\thond\\Anaconda3\\envs\\venv\\lib\\site-packages\\pandas\\core\\indexing.py:189: SettingWithCopyWarning: \n",
      "A value is trying to be set on a copy of a slice from a DataFrame\n",
      "\n",
      "See the caveats in the documentation: http://pandas.pydata.org/pandas-docs/stable/indexing.html#indexing-view-versus-copy\n",
      "  self._setitem_with_indexer(indexer, value)\n"
     ]
    }
   ],
   "source": [
    "#Forecast data predictions\n",
    "\n",
    "#Create forecast columns\n",
    "data['F_RL'] =np.nan\n",
    "data['F_Lasso'] = np.nan\n",
    "data['F_Poly2'] = np.nan\n",
    "\n",
    "#Create the forecast sets\n",
    "fRL_set = regLineal.predict(Xlately)\n",
    "fLasso_set = regLasso.predict(Xlately)\n",
    "fPoly2_set = clfpoly2.predict(Xlately)\n",
    "\n",
    "#Lineal Regression\n",
    "#Calculating forecasts\n",
    "last_date = data.iloc[len(data)-(fwind-1)].name\n",
    "last_unix = last_date\n",
    "next_unix = last_unix + datetime.timedelta(days=1)\n",
    "print(last_date)#, fwind, data.iloc[len(data)-(fwind-1)].name)\n",
    "\n",
    "for i in fRL_set:\n",
    "    next_date = next_unix\n",
    "    next_unix += datetime.timedelta(days=1)\n",
    "    data['F_RL'].loc[next_date] = i #+[np.nan for _ in range(len(data.columns)-1)]\n",
    "    #print(next_date)\n",
    "\n",
    "\n",
    "#LASSO Regression\n",
    "#Calculating forecasts\n",
    "last_date = data.iloc[len(data)-(fwind-1)].name\n",
    "last_unix = last_date\n",
    "next_unix = last_unix + datetime.timedelta(days=1)\n",
    "\n",
    "for i in fLasso_set:\n",
    "    next_date = next_unix\n",
    "    next_unix += datetime.timedelta(days=1)\n",
    "    data['F_Lasso'].loc[next_date] = i #+[np.nan for _ in range(len(data.columns)-1)]\n",
    "    \n",
    "#Poly2 Regression\n",
    "#Calculating forecasts\n",
    "last_date = data.iloc[len(data)-(fwind-1)].name\n",
    "last_unix = last_date\n",
    "next_unix = last_unix + datetime.timedelta(days=1)\n",
    "\n",
    "for i in fPoly2_set:\n",
    "    next_date = next_unix\n",
    "    next_unix += datetime.timedelta(days=1)\n",
    "    data['F_Poly2'].loc[next_date] = i #+[np.nan for _ in range(len(data.columns)-1)]\n"
   ]
  },
  {
   "cell_type": "code",
   "execution_count": 13,
   "metadata": {},
   "outputs": [
    {
     "data": {
      "image/png": "[encoded data removed]",
      "text/plain": [
       "<Figure size 1080x360 with 1 Axes>"
      ]
     },
     "metadata": {},
     "output_type": "display_data"
    },
    {
     "data": {
      "text/plain": [
       "<Figure size 720x576 with 0 Axes>"
      ]
     },
     "metadata": {},
     "output_type": "display_data"
    }
   ],
   "source": [
    "import calendar\n",
    "#PLotting forecast    \n",
    "t = 20\n",
    "\n",
    "data['Adj Close'].tail(t).plot()\n",
    "#data['Forecast'].tail(50).plot()\n",
    "data['F_RL'].tail(t).plot()\n",
    "data['F_Lasso'].tail(t).plot()\n",
    "data['F_Poly2'].tail(t).plot()\n",
    "#plt.xticks(np.array(data.tail(t)), calendar.mdays[1:199], rotation=20)\n",
    "plt.legend(loc=4)\n",
    "plt.xlabel('Date')\n",
    "plt.ylabel('Price')\n",
    "plt.figure(figsize=(10,8))\n",
    "\n",
    "plt.show()"
   ]
  },
  {
   "cell_type": "code",
   "execution_count": 36,
   "metadata": {},
   "outputs": [
    {
     "name": "stdout",
     "output_type": "stream",
     "text": [
      "             Adj Close        F_RL     F_Lasso     F_Poly2\n",
      "Date                                                      \n",
      "2019-06-07  145.356110         NaN         NaN         NaN\n",
      "2019-06-10  148.283203         NaN         NaN         NaN\n",
      "2019-06-11  150.600922  148.516018  147.185971  148.779957\n",
      "2019-06-12  146.055420  150.723626  149.323189  152.302325\n",
      "2019-06-13  148.113373  152.791312  151.015468  153.427292\n",
      "2019-06-14  144.496964  148.275817  147.696569  147.496220\n",
      "2019-06-17  144.886581         NaN         NaN         NaN\n",
      "2019-06-18  152.728821         NaN         NaN         NaN\n",
      "2019-06-19  152.968582         NaN         NaN         NaN\n",
      "2019-06-20  153.947617         NaN         NaN         NaN\n",
      " \n",
      "F_RL\n",
      "Date\n",
      "2019-06-11    148.516018\n",
      "2019-06-12    150.723626\n",
      "2019-06-13    152.791312\n",
      "2019-06-14    148.275817\n",
      "2019-06-17    146.682723\n",
      "2019-06-18    160.263295\n",
      "2019-06-19    154.277313\n",
      "2019-06-20    155.746341\n",
      "2019-06-15    149.898311\n",
      "2019-06-16    146.752603\n",
      "Name: F_RL, dtype: float64\n",
      " \n",
      "F_Lasso \n",
      "Date\n",
      "2019-06-11    147.185971\n",
      "2019-06-12    149.323189\n",
      "2019-06-13    151.015468\n",
      "2019-06-14    147.696569\n",
      "2019-06-17    146.843140\n",
      "2019-06-18    152.569154\n",
      "2019-06-19    152.744210\n",
      "2019-06-20    153.459057\n",
      "2019-06-15    149.199188\n",
      "2019-06-16    146.558663\n",
      "Name: F_Lasso, dtype: float64\n",
      " \n",
      "F_Poly2\n",
      "Date\n",
      "2019-06-11    148.779957\n",
      "2019-06-12    152.302325\n",
      "2019-06-13    153.427292\n",
      "2019-06-14    147.496220\n",
      "2019-06-17    148.361825\n",
      "2019-06-18    151.022520\n",
      "2019-06-19    154.695537\n",
      "2019-06-20    151.352037\n",
      "2019-06-15    152.452150\n",
      "2019-06-16    152.744433\n",
      "Name: F_Poly2, dtype: float64\n"
     ]
    }
   ],
   "source": [
    "print(data[['Adj Close','F_RL','F_Lasso', 'F_Poly2']].tail(10))\n",
    "print(\" \")\n",
    "print(\"F_RL\")\n",
    "print(data['F_RL'].tail(10))\n",
    "print(\" \")\n",
    "print(\"F_Lasso \")\n",
    "print(data['F_Lasso'].tail(10))\n",
    "print(\" \")\n",
    "print(\"F_Poly2\")\n",
    "print(data['F_Poly2'].tail(10))"
   ]
  },
  {
   "cell_type": "code",
   "execution_count": null,
   "metadata": {},
   "outputs": [],
   "source": []
  }
 ],
 "metadata": {
  "kernelspec": {
   "display_name": "Python 3",
   "language": "python",
   "name": "python3"
  },
  "language_info": {
   "codemirror_mode": {
    "name": "ipython",
    "version": 3
   },
   "file_extension": ".py",
   "mimetype": "text/x-python",
   "name": "python",
   "nbconvert_exporter": "python",
   "pygments_lexer": "ipython3",
   "version": "3.5.6"
  }
 },
 "nbformat": 4,
 "nbformat_minor": 2
}
